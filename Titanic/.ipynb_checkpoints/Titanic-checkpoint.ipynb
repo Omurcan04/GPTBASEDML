{
 "cells": [
  {
   "cell_type": "markdown",
   "id": "7a67b00e",
   "metadata": {},
   "source": [
    "# PROMPTS "
   ]
  },
  {
   "cell_type": "markdown",
   "id": "e26249c9",
   "metadata": {},
   "source": [
    "Act as a data-scientist mentor from now you are my teacher. We are going to use latest versions of what we use. I have a dataset from kaggle which about Titanic disaster. We are going to use Pandas-Matplotlib-Seaborn-Sklearn etc. First we are going to visualize some data and after that we are going to clean up and feature the data and final we are going to make a model to predict if the passenger is survived or not. We make it step by step and i'll give everything about data. If you understand please say yes."
   ]
  }
 ],
 "metadata": {
  "kernelspec": {
   "display_name": "Python 3 (ipykernel)",
   "language": "python",
   "name": "python3"
  },
  "language_info": {
   "codemirror_mode": {
    "name": "ipython",
    "version": 3
   },
   "file_extension": ".py",
   "mimetype": "text/x-python",
   "name": "python",
   "nbconvert_exporter": "python",
   "pygments_lexer": "ipython3",
   "version": "3.10.9"
  }
 },
 "nbformat": 4,
 "nbformat_minor": 5
}
